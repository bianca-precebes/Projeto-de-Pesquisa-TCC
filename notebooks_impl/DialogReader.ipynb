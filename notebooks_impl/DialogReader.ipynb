{
  "nbformat": 4,
  "nbformat_minor": 0,
  "metadata": {
    "colab": {
      "provenance": []
    },
    "kernelspec": {
      "name": "python3",
      "display_name": "Python 3"
    },
    "language_info": {
      "name": "python"
    }
  },
  "cells": [
    {
      "cell_type": "markdown",
      "source": [
        "# **Importação dos dados**"
      ],
      "metadata": {
        "id": "JwJNsq4cM5qA"
      }
    },
    {
      "cell_type": "code",
      "execution_count": null,
      "metadata": {
        "id": "-esgrOLqMygO"
      },
      "outputs": [],
      "source": [
        "pip install demoji"
      ]
    },
    {
      "cell_type": "code",
      "source": [
        "import pandas as pd\n",
        "import re\n",
        "import demoji"
      ],
      "metadata": {
        "id": "KHWTw1JBNKA7"
      },
      "execution_count": null,
      "outputs": []
    },
    {
      "cell_type": "code",
      "source": [
        "df = pd.read_json('/content/drive/MyDrive/dialogos/Cópia de chatmessages_01mai.json')\n",
        "df.sort_values(by=['idp','cri'], inplace=True)"
      ],
      "metadata": {
        "id": "7BZIkfbANSdd"
      },
      "execution_count": null,
      "outputs": []
    },
    {
      "cell_type": "code",
      "source": [
        "df.head(2000)"
      ],
      "metadata": {
        "id": "MbEL3v35NnFp"
      },
      "execution_count": null,
      "outputs": []
    },
    {
      "cell_type": "markdown",
      "source": [
        "# **Separação dos valores do _id em _id_chat e _id_seq**"
      ],
      "metadata": {
        "id": "WorMQ4QFNwp6"
      }
    },
    {
      "cell_type": "code",
      "source": [
        "df['_id_chat'] = df['_id'].apply(lambda x : x.split('-')[0])"
      ],
      "metadata": {
        "id": "biXocXMaNzST"
      },
      "execution_count": null,
      "outputs": []
    },
    {
      "cell_type": "code",
      "source": [
        "df['_id_seq'] = df['_id'].apply(lambda x : int(x.split('-')[1]))"
      ],
      "metadata": {
        "id": "ZI2UEMdhN4bf"
      },
      "execution_count": null,
      "outputs": []
    },
    {
      "cell_type": "code",
      "source": [
        "df_by_id_chat = df.sort_values(by=['idp','_id_chat','cri']).set_index('_id_chat')"
      ],
      "metadata": {
        "id": "IzberU2bN7Xh"
      },
      "execution_count": null,
      "outputs": []
    },
    {
      "cell_type": "markdown",
      "source": [
        "# **Quantidade de pessoas/diálogos e de diálogos totais**"
      ],
      "metadata": {
        "id": "LwnWGA89P31W"
      }
    },
    {
      "cell_type": "code",
      "source": [
        "id_pessoas = df['idp'].unique()"
      ],
      "metadata": {
        "id": "Ft1MLeiIPyXy"
      },
      "execution_count": null,
      "outputs": []
    },
    {
      "cell_type": "code",
      "source": [
        "id_pessoas.size"
      ],
      "metadata": {
        "colab": {
          "base_uri": "https://localhost:8080/"
        },
        "id": "308UAF_YP1Gb",
        "outputId": "bd08d5c4-0821-44cb-9c4a-a0b28290f26a"
      },
      "execution_count": null,
      "outputs": [
        {
          "output_type": "execute_result",
          "data": {
            "text/plain": [
              "3244"
            ]
          },
          "metadata": {},
          "execution_count": 9
        }
      ]
    },
    {
      "cell_type": "code",
      "source": [
        "id_dialogos = df['_id_chat'].unique()"
      ],
      "metadata": {
        "id": "iw_tG0p8QAPy"
      },
      "execution_count": null,
      "outputs": []
    },
    {
      "cell_type": "code",
      "source": [
        "id_dialogos.size"
      ],
      "metadata": {
        "colab": {
          "base_uri": "https://localhost:8080/"
        },
        "id": "GFQJ0JhpQKsp",
        "outputId": "e3f643da-f734-4bc8-a626-abd489039c25"
      },
      "execution_count": null,
      "outputs": [
        {
          "output_type": "execute_result",
          "data": {
            "text/plain": [
              "7136"
            ]
          },
          "metadata": {},
          "execution_count": 11
        }
      ]
    },
    {
      "cell_type": "markdown",
      "source": [
        "# **Processo de extração dos diálogos**"
      ],
      "metadata": {
        "id": "okCw6vI0Kk-5"
      }
    },
    {
      "cell_type": "code",
      "source": [
        "df_by_id_chat"
      ],
      "metadata": {
        "id": "Ie2CwZuVYO27"
      },
      "execution_count": null,
      "outputs": []
    },
    {
      "cell_type": "code",
      "source": [
        "final_dataframe = df_by_id_chat[['_id', 'ori', 'txt']].drop_duplicates().head(49992)\n",
        "final_dataframe"
      ],
      "metadata": {
        "id": "rlGYP2rOQ-qE"
      },
      "execution_count": null,
      "outputs": []
    },
    {
      "cell_type": "code",
      "source": [
        "def format_text(text):\n",
        "\n",
        "  text_without_emoji = demoji.replace(text, \"\")\n",
        "\n",
        "  final_text = re.sub(r\"\\\\n+\", \" \", text_without_emoji)\n",
        "\n",
        "  final_text = re.sub(r\"\\n+\", \" \", final_text)\n",
        "\n",
        "  final_text = re.sub(r\"\\\\r+\", \" \", final_text)\n",
        "\n",
        "  return final_text"
      ],
      "metadata": {
        "id": "_XTN7AAhUGry"
      },
      "execution_count": null,
      "outputs": []
    },
    {
      "cell_type": "code",
      "source": [
        "for row in final_dataframe.itertuples(index=True, name='Pandas'):\n",
        "  texto = format_text(row.txt)\n",
        "  final_dataframe['txt'].replace(row.txt, texto, inplace=True)\n"
      ],
      "metadata": {
        "id": "Wf04xhdVS086"
      },
      "execution_count": null,
      "outputs": []
    },
    {
      "cell_type": "code",
      "source": [
        "final_dataframe"
      ],
      "metadata": {
        "collapsed": true,
        "id": "O_5R5-njcEAz"
      },
      "execution_count": null,
      "outputs": []
    },
    {
      "cell_type": "code",
      "source": [
        "final_dataframe_without_index = final_dataframe.reset_index()\n",
        "final_dataframe_without_index"
      ],
      "metadata": {
        "id": "GRX-wpY-tcSJ"
      },
      "execution_count": null,
      "outputs": []
    },
    {
      "cell_type": "code",
      "source": [
        "final_dataframe_without_index.to_json('/content/drive/MyDrive/final_dataframe.json')"
      ],
      "metadata": {
        "id": "Ss93cqO3ccDH"
      },
      "execution_count": null,
      "outputs": []
    }
  ]
}